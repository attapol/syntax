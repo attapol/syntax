{
 "cells": [
  {
   "cell_type": "code",
   "execution_count": 18,
   "metadata": {},
   "outputs": [],
   "source": [
    "from nltk.tree import Tree\n",
    "import pandas as pd\n",
    "import numpy as np"
   ]
  },
  {
   "cell_type": "code",
   "execution_count": 145,
   "metadata": {},
   "outputs": [],
   "source": [
    "data = pd.read_csv('pear_en.csv') #must have HEAD ID FORM "
   ]
  },
  {
   "cell_type": "code",
   "execution_count": 146,
   "metadata": {},
   "outputs": [
    {
     "data": {
      "text/html": [
       "<div>\n",
       "<style scoped>\n",
       "    .dataframe tbody tr th:only-of-type {\n",
       "        vertical-align: middle;\n",
       "    }\n",
       "\n",
       "    .dataframe tbody tr th {\n",
       "        vertical-align: top;\n",
       "    }\n",
       "\n",
       "    .dataframe thead th {\n",
       "        text-align: right;\n",
       "    }\n",
       "</style>\n",
       "<table border=\"1\" class=\"dataframe\">\n",
       "  <thead>\n",
       "    <tr style=\"text-align: right;\">\n",
       "      <th></th>\n",
       "      <th>ID</th>\n",
       "      <th>FORM</th>\n",
       "      <th>UPOS</th>\n",
       "      <th>HEAD</th>\n",
       "      <th>DEPREL</th>\n",
       "    </tr>\n",
       "  </thead>\n",
       "  <tbody>\n",
       "    <tr>\n",
       "      <th>0</th>\n",
       "      <td>1.0</td>\n",
       "      <td>The</td>\n",
       "      <td>DET</td>\n",
       "      <td>4.0</td>\n",
       "      <td>det</td>\n",
       "    </tr>\n",
       "    <tr>\n",
       "      <th>1</th>\n",
       "      <td>2.0</td>\n",
       "      <td>American</td>\n",
       "      <td>ADJ</td>\n",
       "      <td>4.0</td>\n",
       "      <td>amod</td>\n",
       "    </tr>\n",
       "    <tr>\n",
       "      <th>2</th>\n",
       "      <td>3.0</td>\n",
       "      <td>space</td>\n",
       "      <td>NOUN</td>\n",
       "      <td>4.0</td>\n",
       "      <td>compound</td>\n",
       "    </tr>\n",
       "    <tr>\n",
       "      <th>3</th>\n",
       "      <td>4.0</td>\n",
       "      <td>agency</td>\n",
       "      <td>NOUN</td>\n",
       "      <td>8.0</td>\n",
       "      <td>nsubj</td>\n",
       "    </tr>\n",
       "    <tr>\n",
       "      <th>4</th>\n",
       "      <td>5.0</td>\n",
       "      <td>(</td>\n",
       "      <td>PUNCT</td>\n",
       "      <td>6.0</td>\n",
       "      <td>punct</td>\n",
       "    </tr>\n",
       "  </tbody>\n",
       "</table>\n",
       "</div>"
      ],
      "text/plain": [
       "    ID      FORM   UPOS  HEAD    DEPREL\n",
       "0  1.0       The    DET   4.0       det\n",
       "1  2.0  American    ADJ   4.0      amod\n",
       "2  3.0     space   NOUN   4.0  compound\n",
       "3  4.0    agency   NOUN   8.0     nsubj\n",
       "4  5.0         (  PUNCT   6.0     punct"
      ]
     },
     "execution_count": 146,
     "metadata": {},
     "output_type": "execute_result"
    }
   ],
   "source": [
    "data.head()"
   ]
  },
  {
   "cell_type": "code",
   "execution_count": 195,
   "metadata": {},
   "outputs": [],
   "source": [
    "def recurs_build_tree(root_id, sent_data):\n",
    "    deps = sent_data[sent_data.HEAD == root_id]\n",
    "    form = sent_data[sent_data.ID == root_id].FORM.tolist()[0]\n",
    "    if form == '(':\n",
    "        form = 'LRB'\n",
    "    elif form == ')':\n",
    "        form = 'RRB'\n",
    "    s = '(' + form\n",
    "    if len(deps) > 0:\n",
    "        s += ' ('\n",
    "        for root_index in list(deps.ID):\n",
    "            s += recurs_build_tree(root_index, sent_data) + ' '\n",
    "        s += ')'\n",
    "    s += ' )'\n",
    "    return s\n",
    "\n",
    "def build_tree(sent_data):\n",
    "    root = sent_data[sent_data.HEAD == 0]\n",
    "    tstr =  recurs_build_tree(int(root.ID), sent_data) \n",
    "    return Tree.fromstring(tstr)\n",
    "\n",
    "def draw_sentence(data, sentence_id):\n",
    "    separators = list(data[np.isnan(data.ID)].index)\n",
    "    if sentence_id == 1:\n",
    "        sentence = data.iloc[0:separators[0]]\n",
    "    elif sentence_id == (len(separators) + 1):\n",
    "        sentence = data.iloc[separators[-1]+1:]\n",
    "    else:\n",
    "        sentence = data.iloc[separators[sentence_id-2]+1:separators[sentence_id-1]]\n",
    "    sentence.HEAD = sentence.HEAD.astype('int64')\n",
    "    sentence.ID = sentence.ID.astype('int64')\n",
    "    t = build_tree(sentence)\n",
    "    return t"
   ]
  },
  {
   "cell_type": "code",
   "execution_count": 202,
   "metadata": {},
   "outputs": [
    {
     "name": "stderr",
     "output_type": "stream",
     "text": [
      "/Users/te/anaconda3/lib/python3.6/site-packages/pandas/core/generic.py:4401: SettingWithCopyWarning: \n",
      "A value is trying to be set on a copy of a slice from a DataFrame.\n",
      "Try using .loc[row_indexer,col_indexer] = value instead\n",
      "\n",
      "See the caveats in the documentation: http://pandas.pydata.org/pandas-docs/stable/indexing.html#indexing-view-versus-copy\n",
      "  self[name] = value\n"
     ]
    }
   ],
   "source": [
    "draw_sentence(data, 1).draw()\n"
   ]
  },
  {
   "cell_type": "code",
   "execution_count": 194,
   "metadata": {},
   "outputs": [
    {
     "data": {
      "text/html": [
       "<div>\n",
       "<style scoped>\n",
       "    .dataframe tbody tr th:only-of-type {\n",
       "        vertical-align: middle;\n",
       "    }\n",
       "\n",
       "    .dataframe tbody tr th {\n",
       "        vertical-align: top;\n",
       "    }\n",
       "\n",
       "    .dataframe thead th {\n",
       "        text-align: right;\n",
       "    }\n",
       "</style>\n",
       "<table border=\"1\" class=\"dataframe\">\n",
       "  <thead>\n",
       "    <tr style=\"text-align: right;\">\n",
       "      <th></th>\n",
       "      <th>ID</th>\n",
       "      <th>FORM</th>\n",
       "      <th>UPOS</th>\n",
       "      <th>HEAD</th>\n",
       "      <th>DEPREL</th>\n",
       "    </tr>\n",
       "  </thead>\n",
       "  <tbody>\n",
       "    <tr>\n",
       "      <th>30</th>\n",
       "      <td>7.0</td>\n",
       "      <td>nearly</td>\n",
       "      <td>ADV</td>\n",
       "      <td>8.0</td>\n",
       "      <td>advmod</td>\n",
       "    </tr>\n",
       "    <tr>\n",
       "      <th>31</th>\n",
       "      <td>8.0</td>\n",
       "      <td>50</td>\n",
       "      <td>NUM</td>\n",
       "      <td>9.0</td>\n",
       "      <td>nummod</td>\n",
       "    </tr>\n",
       "    <tr>\n",
       "      <th>32</th>\n",
       "      <td>9.0</td>\n",
       "      <td>km</td>\n",
       "      <td>NOUN</td>\n",
       "      <td>11.0</td>\n",
       "      <td>nmod</td>\n",
       "    </tr>\n",
       "    <tr>\n",
       "      <th>33</th>\n",
       "      <td>10.0</td>\n",
       "      <td>-</td>\n",
       "      <td>PUNCT</td>\n",
       "      <td>11.0</td>\n",
       "      <td>punct</td>\n",
       "    </tr>\n",
       "  </tbody>\n",
       "</table>\n",
       "</div>"
      ],
      "text/plain": [
       "      ID    FORM   UPOS  HEAD  DEPREL\n",
       "30   7.0  nearly    ADV   8.0  advmod\n",
       "31   8.0      50    NUM   9.0  nummod\n",
       "32   9.0      km   NOUN  11.0    nmod\n",
       "33  10.0       -  PUNCT  11.0   punct"
      ]
     },
     "execution_count": 194,
     "metadata": {},
     "output_type": "execute_result"
    }
   ],
   "source": [
    "data.iloc[30:34]"
   ]
  },
  {
   "cell_type": "code",
   "execution_count": null,
   "metadata": {},
   "outputs": [],
   "source": []
  }
 ],
 "metadata": {
  "kernelspec": {
   "display_name": "Python 3",
   "language": "python",
   "name": "python3"
  },
  "language_info": {
   "codemirror_mode": {
    "name": "ipython",
    "version": 3
   },
   "file_extension": ".py",
   "mimetype": "text/x-python",
   "name": "python",
   "nbconvert_exporter": "python",
   "pygments_lexer": "ipython3",
   "version": "3.6.5"
  }
 },
 "nbformat": 4,
 "nbformat_minor": 2
}
